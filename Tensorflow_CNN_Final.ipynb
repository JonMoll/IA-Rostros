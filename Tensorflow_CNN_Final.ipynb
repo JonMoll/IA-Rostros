{
  "nbformat": 4,
  "nbformat_minor": 0,
  "metadata": {
    "colab": {
      "name": "Tensorflow_CNN_Final.ipynb",
      "version": "0.3.2",
      "provenance": [],
      "collapsed_sections": []
    },
    "kernelspec": {
      "name": "python3",
      "display_name": "Python 3"
    },
    "accelerator": "GPU"
  },
  "cells": [
    {
      "metadata": {
        "id": "7ZkB82BLwWzG",
        "colab_type": "text"
      },
      "cell_type": "markdown",
      "source": [
        "# Dividiendo Dataset"
      ]
    },
    {
      "metadata": {
        "id": "dqnZ6zyxwKhJ",
        "colab_type": "code",
        "colab": {}
      },
      "cell_type": "code",
      "source": [
        "import pandas as pd\n",
        "import numpy as np"
      ],
      "execution_count": 0,
      "outputs": []
    },
    {
      "metadata": {
        "id": "DzI6b8UsyeuG",
        "colab_type": "code",
        "colab": {}
      },
      "cell_type": "code",
      "source": [
        "classes = [\"jonathan\", \"harry\", \"stefanie\", \"alejandro\"]\n",
        "num_classes = len(classes)\n",
        "img_size = 100 # Fotos de 100x100 pixeles\n",
        "num_channels = 1 # Fotos en escala de grises"
      ],
      "execution_count": 0,
      "outputs": []
    },
    {
      "metadata": {
        "id": "NgdHp-0TwlCr",
        "colab_type": "code",
        "colab": {}
      },
      "cell_type": "code",
      "source": [
        "jonathan_csv  = pd.read_csv(\"jonathan.csv\",  header=None)\n",
        "harry_csv     = pd.read_csv(\"harry.csv\",     header=None)\n",
        "stefanie_csv  = pd.read_csv(\"stefanie.csv\",  header=None)\n",
        "alejandro_csv = pd.read_csv(\"alejandro.csv\", header=None)"
      ],
      "execution_count": 0,
      "outputs": []
    },
    {
      "metadata": {
        "id": "sQpT3yHqxdy-",
        "colab_type": "code",
        "colab": {}
      },
      "cell_type": "code",
      "source": [
        "np_jonathan  = np.array(jonathan_csv)\n",
        "np_harry     = np.array(harry_csv)\n",
        "np_stefanie  = np.array(stefanie_csv)\n",
        "np_alejandro = np.array(alejandro_csv)"
      ],
      "execution_count": 0,
      "outputs": []
    },
    {
      "metadata": {
        "id": "U2xhrA7By0HX",
        "colab_type": "code",
        "colab": {}
      },
      "cell_type": "code",
      "source": [
        "np.random.shuffle(np_jonathan)\n",
        "np.random.shuffle(np_harry)\n",
        "np.random.shuffle(np_stefanie)\n",
        "np.random.shuffle(np_alejandro)\n",
        "\n",
        "# 75% para entrenamiento, 25% para prueba\n",
        "jonathan_train,  jonathan_test  = np.split(np_jonathan,  [75])\n",
        "harry_train,     harry_test     = np.split(np_harry,     [75])\n",
        "stefanie_train,  stefanie_test  = np.split(np_stefanie,  [75])\n",
        "alejandro_train, alejandro_test = np.split(np_alejandro, [75])"
      ],
      "execution_count": 0,
      "outputs": []
    },
    {
      "metadata": {
        "id": "B3FZ0l_w5Edg",
        "colab_type": "code",
        "colab": {}
      },
      "cell_type": "code",
      "source": [
        "# 300 fotos para entrenamiento\n",
        "dataset_train = np.concatenate((jonathan_train,\n",
        "                                harry_train,\n",
        "                                stefanie_train,\n",
        "                                alejandro_train),\n",
        "                               axis=0)\n",
        "\n",
        "# 100 fotos para prueba\n",
        "dataset_test  = np.concatenate((jonathan_test,\n",
        "                                harry_test,\n",
        "                                stefanie_test,\n",
        "                                alejandro_test),\n",
        "                               axis=0)"
      ],
      "execution_count": 0,
      "outputs": []
    },
    {
      "metadata": {
        "id": "JzCoqWZR92qI",
        "colab_type": "code",
        "colab": {}
      },
      "cell_type": "code",
      "source": [
        "train_photos = dataset_train[:,1:]\n",
        "train_labels = dataset_train[:,0]\n",
        "\n",
        "test_photos  = dataset_test[:,1:]\n",
        "test_labels  = dataset_test[:,0]"
      ],
      "execution_count": 0,
      "outputs": []
    },
    {
      "metadata": {
        "id": "ruBC_9-ewniV",
        "colab_type": "code",
        "colab": {}
      },
      "cell_type": "code",
      "source": [
        "train_labels_one_hot = np.zeros((len(train_labels), num_classes))\n",
        "train_labels_one_hot[np.arange(len(train_labels)), train_labels] = 1.0\n",
        "\n",
        "test_labels_one_hot = np.zeros((len(test_labels), num_classes))\n",
        "test_labels_one_hot[np.arange(len(test_labels)), test_labels] = 1.0"
      ],
      "execution_count": 0,
      "outputs": []
    },
    {
      "metadata": {
        "id": "Mrzxg1i-7fKV",
        "colab_type": "text"
      },
      "cell_type": "markdown",
      "source": [
        "#CNN"
      ]
    },
    {
      "metadata": {
        "id": "jhXf3hBa78dZ",
        "colab_type": "code",
        "colab": {}
      },
      "cell_type": "code",
      "source": [
        "import tensorflow as tf\n",
        "\n",
        "def reset_graph(seed=42):\n",
        "  tf.reset_default_graph()\n",
        "  tf.set_random_seed(seed)\n",
        "  np.random.seed(seed)"
      ],
      "execution_count": 0,
      "outputs": []
    },
    {
      "metadata": {
        "id": "nzLaAd7e7o4J",
        "colab_type": "text"
      },
      "cell_type": "markdown",
      "source": [
        "## Funcion para Crear una Capa Convolucional "
      ]
    },
    {
      "metadata": {
        "id": "x-6nEEpy6sfR",
        "colab_type": "code",
        "colab": {}
      },
      "cell_type": "code",
      "source": [
        "def create_weights(shape):\n",
        "  return tf.Variable(tf.truncated_normal(shape, stddev=0.05))"
      ],
      "execution_count": 0,
      "outputs": []
    },
    {
      "metadata": {
        "id": "pURe8-6q9_2J",
        "colab_type": "code",
        "colab": {}
      },
      "cell_type": "code",
      "source": [
        "def create_biases(size):\n",
        "  return tf.Variable(tf.constant(0.05, shape=[size]))"
      ],
      "execution_count": 0,
      "outputs": []
    },
    {
      "metadata": {
        "id": "WfY9IxVu-HtF",
        "colab_type": "code",
        "colab": {}
      },
      "cell_type": "code",
      "source": [
        "def create_convolutional_layer(input,\n",
        "                               num_input_channels,\n",
        "                               conv_filter_size,\n",
        "                               num_filters):\n",
        "    \n",
        "  weights = create_weights(shape=[conv_filter_size,\n",
        "                                  conv_filter_size,\n",
        "                                  num_input_channels,\n",
        "                                  num_filters])\n",
        "\n",
        "  biases = create_biases(num_filters)\n",
        "\n",
        "  layer = tf.nn.conv2d(input=input,\n",
        "                       filter=weights,\n",
        "                       strides=[1, 1, 1, 1],\n",
        "                       padding='SAME')\n",
        "\n",
        "  layer += biases\n",
        "\n",
        "  layer = tf.nn.max_pool(value=layer,\n",
        "                         ksize=[1, 2, 2, 1],\n",
        "                         strides=[1, 2, 2, 1],\n",
        "                         padding='SAME')\n",
        "\n",
        "  layer = tf.nn.relu(layer)\n",
        "\n",
        "  return layer"
      ],
      "execution_count": 0,
      "outputs": []
    },
    {
      "metadata": {
        "id": "cRr8lXYVAYse",
        "colab_type": "text"
      },
      "cell_type": "markdown",
      "source": [
        "## Funcion para Crear una Capa Plana"
      ]
    },
    {
      "metadata": {
        "id": "6RE9pAtD-xQh",
        "colab_type": "code",
        "colab": {}
      },
      "cell_type": "code",
      "source": [
        "def create_flatten_layer(layer):\n",
        "  layer_shape = layer.get_shape()\n",
        "  num_features = layer_shape[1:4].num_elements()\n",
        "  layer = tf.reshape(layer, [-1, num_features])\n",
        "\n",
        "  return layer"
      ],
      "execution_count": 0,
      "outputs": []
    },
    {
      "metadata": {
        "id": "JKGlXu98Bex8",
        "colab_type": "text"
      },
      "cell_type": "markdown",
      "source": [
        "## Funcion para Crear una Capa Completamente Conectada"
      ]
    },
    {
      "metadata": {
        "id": "OYoW3UHtBF2I",
        "colab_type": "code",
        "colab": {}
      },
      "cell_type": "code",
      "source": [
        "def create_fc_layer(input,\n",
        "                    num_inputs,\n",
        "                    num_outputs,\n",
        "                    use_relu=True):\n",
        "    \n",
        "  weights = create_weights(shape=[num_inputs, num_outputs])\n",
        "  biases = create_biases(num_outputs)\n",
        "\n",
        "  layer = tf.matmul(input, weights) + biases\n",
        "\n",
        "  if use_relu:\n",
        "      layer = tf.nn.relu(layer)\n",
        "\n",
        "  return layer"
      ],
      "execution_count": 0,
      "outputs": []
    },
    {
      "metadata": {
        "id": "pf-BhZtNCrTT",
        "colab_type": "text"
      },
      "cell_type": "markdown",
      "source": [
        "## Diseño"
      ]
    },
    {
      "metadata": {
        "id": "8LZllcCXVW2D",
        "colab_type": "code",
        "colab": {}
      },
      "cell_type": "code",
      "source": [
        "reset_graph()\n",
        "session = tf.Session()"
      ],
      "execution_count": 0,
      "outputs": []
    },
    {
      "metadata": {
        "id": "bls2qwo_T77K",
        "colab_type": "text"
      },
      "cell_type": "markdown",
      "source": [
        "### Placeholders"
      ]
    },
    {
      "metadata": {
        "id": "JS3S7m3nCxN9",
        "colab_type": "code",
        "colab": {
          "base_uri": "https://localhost:8080/",
          "height": 88
        },
        "outputId": "bacb3619-077f-4843-8942-4e8574731972"
      },
      "cell_type": "code",
      "source": [
        "x = tf.placeholder(tf.float32, shape=[None, img_size*img_size], name = \"x\")\n",
        "x_reshaped = tf.reshape(x, shape=[-1, img_size, img_size, num_channels])\n",
        "\n",
        "y_true = tf.placeholder(tf.float32, shape=[None, num_classes], name='y_true')\n",
        "y_true_cls = tf.argmax(y_true, dimension=1)"
      ],
      "execution_count": 16,
      "outputs": [
        {
          "output_type": "stream",
          "text": [
            "WARNING:tensorflow:From <ipython-input-16-f5823cd62268>:5: calling argmax (from tensorflow.python.ops.math_ops) with dimension is deprecated and will be removed in a future version.\n",
            "Instructions for updating:\n",
            "Use the `axis` argument instead\n"
          ],
          "name": "stdout"
        }
      ]
    },
    {
      "metadata": {
        "id": "G4DdKRoaUAmq",
        "colab_type": "text"
      },
      "cell_type": "markdown",
      "source": [
        "### Capas Convolucionales"
      ]
    },
    {
      "metadata": {
        "id": "XS2C2-jvStoL",
        "colab_type": "code",
        "colab": {}
      },
      "cell_type": "code",
      "source": [
        "filter_size_conv1 = 3\n",
        "num_filters_conv1 = 32\n",
        "\n",
        "layer_conv1 = create_convolutional_layer(input=x_reshaped,\n",
        "                                         num_input_channels=num_channels,\n",
        "                                         conv_filter_size=filter_size_conv1,\n",
        "                                         num_filters=num_filters_conv1)"
      ],
      "execution_count": 0,
      "outputs": []
    },
    {
      "metadata": {
        "id": "DM34Gk9gUcqC",
        "colab_type": "code",
        "colab": {}
      },
      "cell_type": "code",
      "source": [
        "filter_size_conv2 = 3\n",
        "num_filters_conv2 = 32\n",
        "\n",
        "layer_conv2 = create_convolutional_layer(input=layer_conv1,\n",
        "                                         num_input_channels=num_filters_conv1,\n",
        "                                         conv_filter_size=filter_size_conv2,\n",
        "                                         num_filters=num_filters_conv2)"
      ],
      "execution_count": 0,
      "outputs": []
    },
    {
      "metadata": {
        "id": "LHNFZgltZEOO",
        "colab_type": "code",
        "colab": {}
      },
      "cell_type": "code",
      "source": [
        "filter_size_conv3 = 3\n",
        "num_filters_conv3 = 64\n",
        "\n",
        "layer_conv3 = create_convolutional_layer(input=layer_conv2,\n",
        "                                         num_input_channels=num_filters_conv2,\n",
        "                                         conv_filter_size=filter_size_conv3,\n",
        "                                         num_filters=num_filters_conv3)"
      ],
      "execution_count": 0,
      "outputs": []
    },
    {
      "metadata": {
        "id": "O9HtrvnSZi0l",
        "colab_type": "text"
      },
      "cell_type": "markdown",
      "source": [
        "### Capa Plana"
      ]
    },
    {
      "metadata": {
        "id": "eQ6PeADSZYKd",
        "colab_type": "code",
        "colab": {}
      },
      "cell_type": "code",
      "source": [
        "layer_flat = create_flatten_layer(layer_conv3)"
      ],
      "execution_count": 0,
      "outputs": []
    },
    {
      "metadata": {
        "id": "pGLdRfZ-ZtJU",
        "colab_type": "text"
      },
      "cell_type": "markdown",
      "source": [
        "### Capas Completamente Conectadas"
      ]
    },
    {
      "metadata": {
        "id": "UBNRa5gSZnzV",
        "colab_type": "code",
        "colab": {}
      },
      "cell_type": "code",
      "source": [
        "fc_layer_size = 128\n",
        "\n",
        "layer_fc1 = create_fc_layer(input=layer_flat,\n",
        "                            num_inputs=layer_flat.get_shape()[1:4].num_elements(),\n",
        "                            num_outputs=fc_layer_size,\n",
        "                            use_relu=True)"
      ],
      "execution_count": 0,
      "outputs": []
    },
    {
      "metadata": {
        "id": "COB9xmBSak0t",
        "colab_type": "code",
        "colab": {}
      },
      "cell_type": "code",
      "source": [
        "layer_fc2 = create_fc_layer(input=layer_fc1,\n",
        "                            num_inputs=fc_layer_size,\n",
        "                            num_outputs=num_classes,\n",
        "                            use_relu=False)\n",
        "\n",
        "y_pred = tf.nn.softmax(layer_fc2, name=\"y_pred\")\n",
        "y_pred_cls = tf.argmax(y_pred, dimension=1)\n",
        "\n",
        "session.run(tf.global_variables_initializer())"
      ],
      "execution_count": 0,
      "outputs": []
    },
    {
      "metadata": {
        "id": "RTLVhogbb2ul",
        "colab_type": "text"
      },
      "cell_type": "markdown",
      "source": [
        "## Optimizacion"
      ]
    },
    {
      "metadata": {
        "id": "r8-8I19FcXzP",
        "colab_type": "code",
        "colab": {}
      },
      "cell_type": "code",
      "source": [
        "cross_entropy = tf.nn.softmax_cross_entropy_with_logits_v2(logits=layer_fc2,\n",
        "                                                           labels=y_true)\n",
        "\n",
        "cost = tf.reduce_mean(cross_entropy)\n",
        "optimizer = tf.train.AdamOptimizer(learning_rate=1e-4).minimize(cost)\n",
        "\n",
        "correct_prediction = tf.equal(y_pred_cls, y_true_cls)\n",
        "accuracy = tf.reduce_mean(tf.cast(correct_prediction, tf.float32))\n",
        "\n",
        "session.run(tf.global_variables_initializer())"
      ],
      "execution_count": 0,
      "outputs": []
    },
    {
      "metadata": {
        "id": "mV4Hv8qK2uwv",
        "colab_type": "text"
      },
      "cell_type": "markdown",
      "source": [
        "## Entrenamiento"
      ]
    },
    {
      "metadata": {
        "id": "G32-jaQk4waA",
        "colab_type": "code",
        "outputId": "6d8f2a28-2b45-489b-c17a-8e4eda2b7887",
        "colab": {
          "base_uri": "https://localhost:8080/",
          "height": 357
        }
      },
      "cell_type": "code",
      "source": [
        "n_epochs = 20\n",
        "\n",
        "for epoch in range(n_epochs):\n",
        "  session.run(optimizer, feed_dict={x: train_photos,\n",
        "                                    y_true: train_labels_one_hot})\n",
        "  \n",
        "  acc_train = accuracy.eval(feed_dict={x: train_photos,\n",
        "                                       y_true: train_labels_one_hot},\n",
        "                            session=session)\n",
        "  \n",
        "  acc_test  = accuracy.eval(feed_dict={x: test_photos,\n",
        "                                       y_true: test_labels_one_hot},\n",
        "                            session=session)\n",
        "  \n",
        "  print(\"Epoch:\", epoch+1, \"Train accuracy:\", acc_train, \n",
        "                           \"Test accuracy :\", acc_test)\n",
        "  "
      ],
      "execution_count": 24,
      "outputs": [
        {
          "output_type": "stream",
          "text": [
            "Epoch: 1 Train accuracy: 0.34 Test accuracy : 0.39\n",
            "Epoch: 2 Train accuracy: 0.27666667 Test accuracy : 0.27\n",
            "Epoch: 3 Train accuracy: 0.39 Test accuracy : 0.41\n",
            "Epoch: 4 Train accuracy: 0.35 Test accuracy : 0.45\n",
            "Epoch: 5 Train accuracy: 0.58666664 Test accuracy : 0.59\n",
            "Epoch: 6 Train accuracy: 0.7133333 Test accuracy : 0.73\n",
            "Epoch: 7 Train accuracy: 0.77666664 Test accuracy : 0.82\n",
            "Epoch: 8 Train accuracy: 0.75 Test accuracy : 0.74\n",
            "Epoch: 9 Train accuracy: 0.75 Test accuracy : 0.75\n",
            "Epoch: 10 Train accuracy: 0.75333333 Test accuracy : 0.75\n",
            "Epoch: 11 Train accuracy: 0.8066667 Test accuracy : 0.8\n",
            "Epoch: 12 Train accuracy: 0.87333333 Test accuracy : 0.92\n",
            "Epoch: 13 Train accuracy: 0.9433333 Test accuracy : 0.96\n",
            "Epoch: 14 Train accuracy: 0.94 Test accuracy : 0.91\n",
            "Epoch: 15 Train accuracy: 0.9166667 Test accuracy : 0.91\n",
            "Epoch: 16 Train accuracy: 0.9 Test accuracy : 0.89\n",
            "Epoch: 17 Train accuracy: 0.9166667 Test accuracy : 0.9\n",
            "Epoch: 18 Train accuracy: 0.9433333 Test accuracy : 0.94\n",
            "Epoch: 19 Train accuracy: 0.96 Test accuracy : 0.99\n",
            "Epoch: 20 Train accuracy: 0.96 Test accuracy : 0.99\n"
          ],
          "name": "stdout"
        }
      ]
    },
    {
      "metadata": {
        "id": "FkKRgOoxXHBQ",
        "colab_type": "text"
      },
      "cell_type": "markdown",
      "source": [
        "# Prueba"
      ]
    },
    {
      "metadata": {
        "id": "1npWLG1Pa2EI",
        "colab_type": "code",
        "colab": {}
      },
      "cell_type": "code",
      "source": [
        "def print_label(result):\n",
        "  labels = [ \"Jonathan\", \"Harry\", \"Stefanie\", \"Alejandro\" ]\n",
        "  \n",
        "  max_index = 0\n",
        "  max_value = result[0][0]\n",
        "  \n",
        "  for i in range(1, len(result[0])):\n",
        "    if result[0][i] >= max_value:\n",
        "      max_index = i\n",
        "  \n",
        "  print(labels[max_index])"
      ],
      "execution_count": 0,
      "outputs": []
    },
    {
      "metadata": {
        "id": "rKjzIpD0TkeM",
        "colab_type": "code",
        "outputId": "9e2c1625-19a4-47aa-8066-92115a1ea4f8",
        "colab": {
          "base_uri": "https://localhost:8080/",
          "height": 347
        }
      },
      "cell_type": "code",
      "source": [
        "from matplotlib import pyplot as plt\n",
        "\n",
        "index_photo = 0\n",
        "photo = test_photos[index_photo].reshape(100,100)\n",
        "\n",
        "plt.imshow(photo, cmap = 'gray', interpolation = 'bicubic')\n",
        "plt.xticks([]), plt.yticks([])\n",
        "plt.show()\n",
        "\n",
        "photo = np.zeros((1, img_size*img_size))\n",
        "photo[0] = test_photos[index_photo]\n",
        "\n",
        "y_test_photo = np.zeros((1, 4))\n",
        "\n",
        "feed_dict_testing = {x: photo, y_true: y_test_photo}\n",
        "result = session.run(y_pred, feed_dict=feed_dict_testing)\n",
        "\n",
        "print_label(result)"
      ],
      "execution_count": 32,
      "outputs": [
        {
          "output_type": "display_data",
          "data": {
            "image/png": "[encoded data removed]",
            "text/plain": [
              "<matplotlib.figure.Figure at 0x7fd8406a77b8>"
            ]
          },
          "metadata": {
            "tags": []
          }
        },
        {
          "output_type": "stream",
          "text": [
            "Jonathan\n"
          ],
          "name": "stdout"
        }
      ]
    },
    {
      "metadata": {
        "id": "kRFvapOZdOFC",
        "colab_type": "code",
        "colab": {}
      },
      "cell_type": "code",
      "source": [
        ""
      ],
      "execution_count": 0,
      "outputs": []
    }
  ]
}